{
 "cells": [
  {
   "cell_type": "code",
   "execution_count": 3,
   "metadata": {},
   "outputs": [],
   "source": [
    "import litellm\n",
    "from litellm.integrations.custom_logger import CustomLogger\n",
    "\n",
    "# from dotenv import load_dotenv\n",
    "# load_dotenv()\n",
    "\n",
    "\n",
    "class MyCustomHandler(CustomLogger):\n",
    "    def log_pre_api_call(self, model, messages, kwargs):\n",
    "        # print(\"Pre-API Call\")\n",
    "        pass\n",
    "\n",
    "    def log_post_api_call(self, kwargs, response_obj, start_time, end_time):\n",
    "        # print(\"Post-API Call\")\n",
    "        pass\n",
    "\n",
    "    def log_stream_event(self, kwargs, response_obj, start_time, end_time):\n",
    "        # print(\"On Stream\")\n",
    "        pass\n",
    "\n",
    "    def log_success_event(self, kwargs, response_obj, start_time, end_time):\n",
    "        print(\"On Success\")\n",
    "        pass\n",
    "\n",
    "    def log_failure_event(self, kwargs, response_obj, start_time, end_time):\n",
    "        # print(\"On Failure\")\n",
    "        pass\n",
    "\n",
    "    #### ASYNC #### - for acompletion/aembeddings\n",
    "\n",
    "    async def async_log_stream_event(self, kwargs, response_obj, start_time, end_time):\n",
    "        # print(\"On Async Streaming\")\n",
    "        pass\n",
    "\n",
    "    async def async_log_success_event(self, kwargs, response_obj, start_time, end_time):\n",
    "        # print(\"On Async Success\")\n",
    "        pass\n",
    "\n",
    "    async def async_log_failure_event(self, kwargs, response_obj, start_time, end_time):\n",
    "        # print(\"On Async Success\")\n",
    "        pass\n",
    "\n",
    "\n",
    "customHandler = MyCustomHandler()\n",
    "\n",
    "litellm.callbacks = [customHandler]"
   ]
  },
  {
   "cell_type": "code",
   "execution_count": 4,
   "metadata": {},
   "outputs": [
    {
     "name": "stdout",
     "output_type": "stream",
     "text": [
      "On Success\n",
      "Message(content='Hello! How can I assist you today?', role='assistant')\n",
      "1.75e-05\n"
     ]
    }
   ],
   "source": [
    "from litellm import completion, completion_cost\n",
    "\n",
    "## sync\n",
    "response = completion(\n",
    "    model=\"gpt-3.5-turbo\",\n",
    "    messages=[{\"role\": \"user\", \"content\": \"Hello\"}],\n",
    ")\n",
    "print(response.choices[0].message)\n",
    "print(completion_cost(response))"
   ]
  },
  {
   "cell_type": "code",
   "execution_count": 6,
   "metadata": {},
   "outputs": [
    {
     "name": "stdout",
     "output_type": "stream",
     "text": [
      "Hi\n",
      " there\n",
      "!\n",
      " How\n",
      " can\n",
      " I\n",
      " assist\n",
      " you\n",
      " today\n",
      "?\n",
      "None\n",
      "0.0\n",
      "<litellm.utils.CustomStreamWrapper object at 0x109948350>\n",
      "On Success\n"
     ]
    }
   ],
   "source": [
    "## sync streaming\n",
    "response = completion(\n",
    "    model=\"gpt-3.5-turbo\",\n",
    "    messages=[{\"role\": \"user\", \"content\": \"Hello\"}],\n",
    "    stream=True,\n",
    ")\n",
    "total_cost = 0\n",
    "for chunk in response:\n",
    "    print(chunk.choices[0].delta.content)\n",
    "    total_cost += completion_cost(chunk)\n",
    "print(total_cost)\n",
    "\n",
    "print(response)"
   ]
  },
  {
   "cell_type": "code",
   "execution_count": 7,
   "metadata": {},
   "outputs": [
    {
     "name": "stdout",
     "output_type": "stream",
     "text": [
      "<litellm.utils.CustomStreamWrapper object at 0x109948350>\n"
     ]
    }
   ],
   "source": []
  },
  {
   "cell_type": "code",
   "execution_count": null,
   "metadata": {},
   "outputs": [],
   "source": []
  }
 ],
 "metadata": {
  "kernelspec": {
   "display_name": "jotta-aovH6o2M-py3.12",
   "language": "python",
   "name": "python3"
  },
  "language_info": {
   "codemirror_mode": {
    "name": "ipython",
    "version": 3
   },
   "file_extension": ".py",
   "mimetype": "text/x-python",
   "name": "python",
   "nbconvert_exporter": "python",
   "pygments_lexer": "ipython3",
   "version": "3.12.2"
  }
 },
 "nbformat": 4,
 "nbformat_minor": 2
}
